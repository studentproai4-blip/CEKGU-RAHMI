{
  "nbformat": 4,
  "nbformat_minor": 0,
  "metadata": {
    "colab": {
      "provenance": [],
      "authorship_tag": "ABX9TyMH/Lj9OqRXVoef4BzgF4kd",
      "include_colab_link": true
    },
    "kernelspec": {
      "name": "python3",
      "display_name": "Python 3"
    },
    "language_info": {
      "name": "python"
    }
  },
  "cells": [
    {
      "cell_type": "markdown",
      "metadata": {
        "id": "view-in-github",
        "colab_type": "text"
      },
      "source": [
        "<a href=\"https://colab.research.google.com/github/studentproai4-blip/CEKGU-RAHMI/blob/main/AKAR_PERSAMAAN_KUADRAT.ipynb\" target=\"_parent\"><img src=\"https://colab.research.google.com/assets/colab-badge.svg\" alt=\"Open In Colab\"/></a>"
      ]
    },
    {
      "cell_type": "code",
      "execution_count": 2,
      "metadata": {
        "colab": {
          "base_uri": "https://localhost:8080/"
        },
        "id": "Lx_okSCJQoKk",
        "outputId": "2f1dcc22-ca26-4008-c861-7338d7eb88f4"
      },
      "outputs": [
        {
          "output_type": "stream",
          "name": "stdout",
          "text": [
            "Quadratic Equation Solver: ax^2 + bx + c = 0\n",
            "Enter coefficient a: 1\n",
            "Enter coefficient b: -2\n",
            "Enter coefficient c: 1\n",
            "Roots of the equation are:\n",
            "x1 = (1+0j)\n",
            "x2 = (1+0j)\n"
          ]
        }
      ],
      "source": [
        "import cmath  # for complex number support\n",
        "def solve_quadratic(a, b, c):\n",
        "    # Calculate the discriminant\n",
        "    discriminant = cmath.sqrt(b**2 - 4*a*c)\n",
        "    # Calculate the two solutions\n",
        "    root1 = (-b + discriminant) / (2*a)\n",
        "    root2 = (-b - discriminant) / (2*a)\n",
        "    return root1, root2\n",
        "def main():\n",
        "    print(\"Quadratic Equation Solver: ax^2 + bx + c = 0\")\n",
        "    try:\n",
        "        a = float(input(\"Enter coefficient a: \"))\n",
        "        b = float(input(\"Enter coefficient b: \"))\n",
        "        c = float(input(\"Enter coefficient c: \"))\n",
        "        if a == 0:\n",
        "            print(\"This is not a quadratic equation (a cannot be 0).\")\n",
        "            return\n",
        "        root1, root2 = solve_quadratic(a, b, c)\n",
        "        print(f\"Roots of the equation are:\")\n",
        "        print(f\"x1 = {root1}\")\n",
        "        print(f\"x2 = {root2}\")\n",
        "    except ValueError:\n",
        "        print(\"Please enter valid numeric coefficients.\")\n",
        "if __name__ == \"__main__\":\n",
        "    main()\n"
      ]
    }
  ]
}