{
  "nbformat": 4,
  "nbformat_minor": 0,
  "metadata": {
    "colab": {
      "provenance": [],
      "authorship_tag": "ABX9TyMTyIn5roUvesBENxhqTetz",
      "include_colab_link": true
    },
    "kernelspec": {
      "name": "python3",
      "display_name": "Python 3"
    },
    "language_info": {
      "name": "python"
    }
  },
  "cells": [
    {
      "cell_type": "markdown",
      "metadata": {
        "id": "view-in-github",
        "colab_type": "text"
      },
      "source": [
        "<a href=\"https://colab.research.google.com/github/studentproai4-blip/CEKGU-RAHMI/blob/main/KALENDER_KABISAT.ipynb\" target=\"_parent\"><img src=\"https://colab.research.google.com/assets/colab-badge.svg\" alt=\"Open In Colab\"/></a>"
      ]
    },
    {
      "cell_type": "code",
      "execution_count": 1,
      "metadata": {
        "colab": {
          "base_uri": "https://localhost:8080/"
        },
        "id": "pMl8etMqa3vx",
        "outputId": "348aa785-b942-44f5-a6a5-14f811fb6ad7"
      },
      "outputs": [
        {
          "output_type": "stream",
          "name": "stdout",
          "text": [
            "Masukkan tahun: 2005\n",
            "2005 bukan tahun kabisat.\n"
          ]
        }
      ],
      "source": [
        "def cek_tahun_kabisat(tahun):\n",
        "    if (tahun % 400 == 0) or (tahun % 4 == 0 and tahun % 100 != 0):\n",
        "        return f\"{tahun} adalah tahun kabisat.\"\n",
        "    else:\n",
        "        return f\"{tahun} bukan tahun kabisat.\"\n",
        "\n",
        "# Contoh penggunaan\n",
        "tahun = int(input(\"Masukkan tahun: \"))\n",
        "print(cek_tahun_kabisat(tahun))"
      ]
    }
  ]
}