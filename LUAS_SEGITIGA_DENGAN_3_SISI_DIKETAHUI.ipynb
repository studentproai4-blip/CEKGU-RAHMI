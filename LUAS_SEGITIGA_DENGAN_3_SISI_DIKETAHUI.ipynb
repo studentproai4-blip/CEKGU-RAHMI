{
  "nbformat": 4,
  "nbformat_minor": 0,
  "metadata": {
    "colab": {
      "provenance": [],
      "authorship_tag": "ABX9TyPRlv+bWIpMXBlkAezg12eZ",
      "include_colab_link": true
    },
    "kernelspec": {
      "name": "python3",
      "display_name": "Python 3"
    },
    "language_info": {
      "name": "python"
    }
  },
  "cells": [
    {
      "cell_type": "markdown",
      "metadata": {
        "id": "view-in-github",
        "colab_type": "text"
      },
      "source": [
        "<a href=\"https://colab.research.google.com/github/studentproai4-blip/CEKGU-RAHMI/blob/main/LUAS_SEGITIGA_DENGAN_3_SISI_DIKETAHUI.ipynb\" target=\"_parent\"><img src=\"https://colab.research.google.com/assets/colab-badge.svg\" alt=\"Open In Colab\"/></a>"
      ]
    },
    {
      "cell_type": "code",
      "execution_count": null,
      "metadata": {
        "id": "1g-2KYrOTRAT"
      },
      "outputs": [],
      "source": [
        "import math\n",
        "\n",
        "def luas_segitiga(a, b, c):\n",
        "    # Menghitung setengah keliling\n",
        "    s = (a + b + c) / 2\n",
        "    # Menggunakan rumus Heron\n",
        "    luas = math.sqrt(s * (s - a) * (s - b) * (s - c))\n",
        "    return luas\n",
        "\n",
        "# Contoh penggunaan\n",
        "a = float(input(\"Masukkan sisi a: \"))\n",
        "b = float(input(\"Masukkan sisi b: \"))\n",
        "c = float(input(\"Masukkan sisi c: \"))\n",
        "\n",
        "print(f\"Luas segitiga adalah: {luas_segitiga(a, b, c):.2f}\")"
      ]
    }
  ]
}