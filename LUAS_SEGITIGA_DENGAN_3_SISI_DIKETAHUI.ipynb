{
  "nbformat": 4,
  "nbformat_minor": 0,
  "metadata": {
    "colab": {
      "provenance": [],
      "authorship_tag": "ABX9TyNJr9JMTXQVmvMsQq/pFLp9",
      "include_colab_link": true
    },
    "kernelspec": {
      "name": "python3",
      "display_name": "Python 3"
    },
    "language_info": {
      "name": "python"
    }
  },
  "cells": [
    {
      "cell_type": "markdown",
      "metadata": {
        "id": "view-in-github",
        "colab_type": "text"
      },
      "source": [
        "<a href=\"https://colab.research.google.com/github/studentproai4-blip/CEKGU-RAHMI/blob/main/LUAS_SEGITIGA_DENGAN_3_SISI_DIKETAHUI.ipynb\" target=\"_parent\"><img src=\"https://colab.research.google.com/assets/colab-badge.svg\" alt=\"Open In Colab\"/></a>"
      ]
    },
    {
      "cell_type": "code",
      "execution_count": null,
      "metadata": {
        "id": "1g-2KYrOTRAT"
      },
      "outputs": [],
      "source": [
        "# Input the base and height from the user\n",
        "base = float(input(\"Enter the length of the triangle: \"))\n",
        "height = float(input(\"Enter the height of the triangle: \"))\n",
        "# Calculate the area of the triangle\n",
        "area = 0.5 * base * height\n",
        "# Display the result\n",
        "print(f\"The area of triangle is: {area}\")"
      ]
    }
  ]
}