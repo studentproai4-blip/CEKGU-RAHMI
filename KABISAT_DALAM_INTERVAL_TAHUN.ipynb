{
  "nbformat": 4,
  "nbformat_minor": 0,
  "metadata": {
    "colab": {
      "provenance": [],
      "authorship_tag": "ABX9TyPiHhCSypI1GABH7DTp4G3Q",
      "include_colab_link": true
    },
    "kernelspec": {
      "name": "python3",
      "display_name": "Python 3"
    },
    "language_info": {
      "name": "python"
    }
  },
  "cells": [
    {
      "cell_type": "markdown",
      "metadata": {
        "id": "view-in-github",
        "colab_type": "text"
      },
      "source": [
        "<a href=\"https://colab.research.google.com/github/studentproai4-blip/CEKGU-RAHMI/blob/main/KABISAT_DALAM_INTERVAL_TAHUN.ipynb\" target=\"_parent\"><img src=\"https://colab.research.google.com/assets/colab-badge.svg\" alt=\"Open In Colab\"/></a>"
      ]
    },
    {
      "cell_type": "code",
      "execution_count": null,
      "metadata": {
        "id": "cQry2agfgujH"
      },
      "outputs": [],
      "source": [
        "def cek_tahun_kabisat(tahun):\n",
        "    if tahun % 4 == 0 and (tahun % 100 != 0 or tahun % 400 == 0):\n",
        "        return True\n",
        "    else:\n",
        "        return False\n",
        "\n",
        "tahun_awal = int(input(\"Masukkan Tahun Awal: \"))\n",
        "tahun_akhir = int(input(\"Masukkan Tahun Terakhir: \"))\n",
        "\n",
        "print()\n",
        "print(\"Hasil:\")\n",
        "for tahun in range(tahun_awal,tahun_akhir + 1):\n",
        "  if cek_tahun_kabisat(tahun):\n",
        "    print(tahun,  \"ini tahun kabisat\")\n",
        "  else:\n",
        "    print(tahun, \"ini bukan tahun kabisat\")"
      ]
    }
  ]
}